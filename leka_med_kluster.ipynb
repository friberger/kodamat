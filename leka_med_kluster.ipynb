{
 "cells": [
  {
   "cell_type": "markdown",
   "metadata": {},
   "source": [
    "## Att leka med kluster av mat\n",
    "\n",
    "Det finns över tvåtusen livsmedel i Livsmedelsdatabasen, och de har värden för över 50 näringsvärden.\n",
    "\n",
    "Att sortera dem i Excel funkar ett tag, men det blir svårt att få en samlad bedömning eller gruppering av stora mängder livsmedel."
   ]
  },
  {
   "cell_type": "markdown",
   "metadata": {},
   "source": [
    "Det finns också en metadataklassificering som Livsmedelsverket kallar \"huvudgrupp\". Det är en klassificering som bara har en nivå. Inget över, inget under. En flat nivå."
   ]
  },
  {
   "cell_type": "code",
   "execution_count": 112,
   "metadata": {},
   "outputs": [],
   "source": [
    "import sqlite3\n",
    "import numpy as np\n",
    "from sklearn.cluster import KMeans"
   ]
  },
  {
   "cell_type": "code",
   "execution_count": 113,
   "metadata": {},
   "outputs": [],
   "source": [
    "debug = True"
   ]
  },
  {
   "cell_type": "markdown",
   "metadata": {},
   "source": [
    "Börja med att läsa in allt från databasen. Det tar inte så mycket minne, men är svårt att få överblick över.\n",
    "\n",
    "Allt ligger i variabeln dataset som är en numpy-array. Man kan skriva ut den eller delar av den när som helst om man vill se vad som ligger på en viss rad eller en viss kolumn. Kolumn 0 är livsmedelsnamnet, 1 är livsmedelsnumret."
   ]
  },
  {
   "cell_type": "code",
   "execution_count": 114,
   "metadata": {},
   "outputs": [
    {
     "name": "stdout",
     "output_type": "stream",
     "text": [
      "[['Talg nöt' '1' 656.3 2746.0 0.0]\n",
      " ['Späck gris' '2' 763.0 3192.6 0.0]\n",
      " ['Ister gris' '3' 884.3 3700.0 0.0]\n",
      " ['Kokosfett' '4' 884.3 3700.0 0.0]\n",
      " ['Matfettsblandning havssaltat fett 80% berikad typ Bregott' '5' 711.5\n",
      "  2977.0 0.5]]\n"
     ]
    }
   ],
   "source": [
    "conn = sqlite3.connect('livs.db')\n",
    "conn.row_factory = sqlite3.Row\n",
    "curs = conn.cursor()\n",
    "\n",
    "result = []\n",
    "for row in curs.execute('select * from livs'):\n",
    "    result.append(row)\n",
    "\n",
    "conn.close()\n",
    "\n",
    "dataset = np.array(result)\n",
    "if debug:\n",
    "    print (dataset[:5,:5])"
   ]
  },
  {
   "cell_type": "markdown",
   "metadata": {},
   "source": [
    "Livsmedelsverkets gruppering har jag lagt i kolumn 60. Numpy-funktionen np.unique() returnerar både alla unika värden och (om man vill) hur många som är i varje kategori."
   ]
  },
  {
   "cell_type": "code",
   "execution_count": 115,
   "metadata": {},
   "outputs": [],
   "source": [
    "unique, counts = np.unique(dataset.T[60], return_counts=True) #https://stackoverflow.com/questions/28663856/how-to-count-the-occurrence-of-certain-item-in-an-ndarray-in-python\n",
    "huvudgrupp_storlek = np.array(list(zip(unique, counts)))"
   ]
  },
  {
   "cell_type": "markdown",
   "metadata": {},
   "source": [
    "Skriver man ut huvudgrupp_storlek blir det typ 118 kategorier i bokstavsordning. Här är de n första."
   ]
  },
  {
   "cell_type": "code",
   "execution_count": 116,
   "metadata": {},
   "outputs": [
    {
     "name": "stdout",
     "output_type": "stream",
     "text": [
      "[['' '7']\n",
      " ['Algprodukter' '1']\n",
      " ['Baljväxter (bönor, linser och ärter)' '51']\n",
      " ['Blodmat' '2']\n",
      " ['Blodprodukter o rätter' '8']\n",
      " ['Buljong' '18']\n",
      " ['Bullar kakor tårtor mm' '86']\n",
      " ['Bär färska frysta' '24']\n",
      " ['Chips popcorn o dyl' '11']\n",
      " ['Choklad' '7']\n",
      " ['Cider alkoläsk drink' '3']\n",
      " ['Deg och gräddade skal och bottnar' '3']\n",
      " ['Dessertost' '8']\n",
      " ['Dryck' '1']\n",
      " ['Efterrätter' '31']\n",
      " ['Fisk färsk fryst kokt' '68']\n",
      " ['Fisk o skaldjursprodukter o rätter' '69']\n",
      " ['Fisk rökt' '13']\n",
      " ['Fisk stekt ej panerad' '7']\n",
      " ['Flingor - frukostflingor' '28']\n",
      " ['Flytande matfettsblandning' '7']\n",
      " ['Frukt färsk fryst' '42']\n",
      " ['Frukt o bär' '2']\n",
      " ['Frukt o bär konserverade' '17']\n",
      " ['Frukt o bär torkade' '14']\n",
      " ['Frukt o nötblandningar bars' '2']\n",
      " ['Fruktjuice mm' '22']\n",
      " ['Färskost o kvarg' '15']\n",
      " ['Fågel' '39']\n",
      " ['Fågelprodukter o rätter' '5']\n",
      " ['Gelatin agar agar' '2']\n",
      " ['Glass' '25']\n",
      " ['Godis ej choklad' '11']\n",
      " ['Godis som innehåller choklad' '15']\n",
      " ['Grädde creme fraiche' '23']\n",
      " ['Grönsaker' '94']\n",
      " ['Grönsaks- rotfrukts- baljväxträtter och produkter' '55']\n",
      " ['Grönsaksblandningar med rotfrukter och eller baljväxter' '9']\n",
      " ['Grönsaksjuice rotfruktsjuice' '4']\n",
      " ['Gröt' '16']\n",
      " ['Hamburgare med  bröd (kött, fisk, fågel, vegetarisk)' '5']\n",
      " ['Hård matfettsblandning' '39']\n",
      " ['Hård ost m.m.' '11']\n",
      " ['Hårt bröd' '28']\n",
      " ['Inälvor och organ' '33']\n",
      " ['Inälvor organ produkter o rätter' '15']\n",
      " ['Jäst bakpulver' '3']\n",
      " ['Kaffe' '5']\n",
      " ['Kakaoprodukter' '2']\n",
      " ['Korv' '60']\n",
      " ['Korvrätter' '9']\n",
      " ['Kost- o näringspreparat' '8']\n",
      " ['Kryddor' '1']\n",
      " ['Kött färskt fryst tillagat' '127']\n",
      " ['Kött processat' '25']\n",
      " ['Köttprodukter kötträtter' '80']\n",
      " ['Lightdrycker u energi' '4']\n",
      " ['Likör' '3']\n",
      " ['Majonnässallad röror' '6']\n",
      " ['Matgryn' '14']\n",
      " ['Mesvaror' '6']\n",
      " ['Mjukt bröd' '42']\n",
      " ['Mjöl stärkelse kli' '29']\n",
      " ['Mjölk' '11']\n",
      " ['Mjölkdryck chokladdryck milkshake smothie m yoghurt' '5']\n",
      " ['Naturell fil yoghurt' '11']\n",
      " ['Nötter frön' '21']\n",
      " ['Olja' '15']\n",
      " ['Ost med vegetabilskt fett' '3']\n",
      " ['Osträtter' '3']\n",
      " ['Pannkakor, våfflor, crêpes' '13']\n",
      " ['Pasta' '21']\n",
      " ['Pastarätter' '12']\n",
      " ['Pizza paj pirog färdig smörgås' '46']\n",
      " ['Potatis' '31']\n",
      " ['Potatisprodukter o rätter' '33']\n",
      " ['Ris risnudlar' '25']\n",
      " ['Riskakor' '2']\n",
      " ['Risrätter' '1']\n",
      " ['Rom, kaviar' '6']\n",
      " ['Rotfrukter' '21']\n",
      " ['Saft läsk cider u alkohol' '19']\n",
      " ['Sallad blandad mat' '10']\n",
      " ['Salt' '4']\n",
      " ['Senap ketchup HP-sås soja *smaksättare*' '11']\n",
      " ['Skaldjur bläckfisk färsk fryst kokt' '14']\n",
      " ['Skaldjur bläckfisk konserverad' '6']\n",
      " ['Smaksatt fil yoghurt' '11']\n",
      " ['Smältost' '8']\n",
      " ['Smör' '3']\n",
      " ['Smörgåskex' '7']\n",
      " ['Socker sirap honung' '6']\n",
      " ['Sockerfritt godis' '1']\n",
      " ['Soja-  veteprotein o quorn' '3']\n",
      " ['Sojaprotein veteprotein Quorn produkter och rätter' '3']\n",
      " ['Soppa mat' '47']\n",
      " ['Sportdrycker energidrycker' '2']\n",
      " ['Starksprit' '7']\n",
      " ['Svamp' '9']\n",
      " ['Sylt marmelad gelé äppelmos o dyl' '18']\n",
      " ['Sylta' '3']\n",
      " ['Sås dressing majonnäs' '79']\n",
      " ['Söta soppor kräm o efterrättssås' '26']\n",
      " ['Sötningsmedel' '1']\n",
      " ['Tacoskal' '1']\n",
      " ['Te' '4']\n",
      " ['Tuggummi' '2']\n",
      " ['Vatten mineralvatten' '15']\n",
      " ['Vegetabiliska produkter och mjölkersättning' '13']\n",
      " ['Vin' '10']\n",
      " ['Välling' '12']\n",
      " ['Ägg' '9']\n",
      " ['Äggprodukter o rätter' '6']\n",
      " ['Ättika vinäger' '3']\n",
      " ['Öl' '4']\n",
      " ['Övriga sötade drycker vattenchoklad' '4']\n",
      " ['Övrigt' '2']\n",
      " ['Övrigt animaliskt *kött*, grodlår, sniglar, säl - färskt, fryst, tillagat'\n",
      "  '1']\n",
      " ['Övrigt fett (ister, talg, kokosfett)' '4']]\n"
     ]
    }
   ],
   "source": [
    "n = 20\n",
    "print (huvudgrupp_storlek[:])"
   ]
  },
  {
   "cell_type": "markdown",
   "metadata": {},
   "source": [
    "Jag förstår inte riktigt varför det är så svårt att sortera den arrayen. Det är ju en sak att allting är strängar, eftersom en numpy-array bara kan ha en enda datatyp, men det borde finnas ett enkelt sätt att sortera efter kolumn två som integer...\n",
    "\n",
    "Som det blir nu behöver man skapa ett index genom att använda np.argsort, ta de 20 första med [-20:] och sen vända på ordningen med [::-1], som helt enkelt är en slice till, där -1 är step-argumentet. https://docs.scipy.org/doc/numpy-1.13.0/reference/arrays.indexing.html "
   ]
  },
  {
   "cell_type": "code",
   "execution_count": 117,
   "metadata": {},
   "outputs": [
    {
     "name": "stdout",
     "output_type": "stream",
     "text": [
      "[['Kött färskt fryst tillagat' '127']\n",
      " ['Grönsaker' '94']\n",
      " ['Bullar kakor tårtor mm' '86']\n",
      " ['Köttprodukter kötträtter' '80']\n",
      " ['Sås dressing majonnäs' '79']\n",
      " ['Fisk o skaldjursprodukter o rätter' '69']\n",
      " ['Fisk färsk fryst kokt' '68']\n",
      " ['Korv' '60']\n",
      " ['Grönsaks- rotfrukts- baljväxträtter och produkter' '55']\n",
      " ['Baljväxter (bönor, linser och ärter)' '51']\n",
      " ['Soppa mat' '47']\n",
      " ['Pizza paj pirog färdig smörgås' '46']\n",
      " ['Frukt färsk fryst' '42']\n",
      " ['Mjukt bröd' '42']\n",
      " ['Hård matfettsblandning' '39']\n",
      " ['Fågel' '39']\n",
      " ['Potatisprodukter o rätter' '33']\n",
      " ['Inälvor och organ' '33']\n",
      " ['Potatis' '31']\n",
      " ['Efterrätter' '31']]\n"
     ]
    }
   ],
   "source": [
    "antal = 20\n",
    "index = np.argsort(huvudgrupp_storlek.T[1].astype(int))[-antal:][::-1] #https://stackoverflow.com/questions/6910641/how-to-get-indices-of-n-maximum-values-in-a-numpy-array\n",
    "print(huvudgrupp_storlek[index])"
   ]
  },
  {
   "cell_type": "markdown",
   "metadata": {},
   "source": [
    "Medan de största grupperna är ganska rättframma är de minsta desto knepigare. Vad ska man göra med en klassificering som innehåller en huvudgrupp \"Risrätter\" med endast ett livsmedel, och det är paella och inte exempelvis risgrynsgröt?"
   ]
  },
  {
   "cell_type": "code",
   "execution_count": 118,
   "metadata": {},
   "outputs": [
    {
     "name": "stdout",
     "output_type": "stream",
     "text": [
      "[['Sötningsmedel' '1']\n",
      " ['Algprodukter' '1']\n",
      " ['Kryddor' '1']\n",
      " ['Övrigt animaliskt *kött*, grodlår, sniglar, säl - färskt, fryst, tillagat'\n",
      "  '1']\n",
      " ['Sockerfritt godis' '1']\n",
      " ['Risrätter' '1']\n",
      " ['Dryck' '1']\n",
      " ['Tacoskal' '1']\n",
      " ['Riskakor' '2']\n",
      " ['Frukt o nötblandningar bars' '2']\n",
      " ['Frukt o bär' '2']\n",
      " ['Sportdrycker energidrycker' '2']\n",
      " ['Gelatin agar agar' '2']\n",
      " ['Övrigt' '2']\n",
      " ['Blodmat' '2']\n",
      " ['Tuggummi' '2']\n",
      " ['Kakaoprodukter' '2']\n",
      " ['Cider alkoläsk drink' '3']\n",
      " ['Osträtter' '3']\n",
      " ['Smör' '3']]\n"
     ]
    }
   ],
   "source": [
    "index = np.argsort(huvudgrupp_storlek.T[1].astype(int))[:20] #https://stackoverflow.com/questions/6910641/how-to-get-indices-of-n-maximum-values-in-a-numpy-array\n",
    "print(huvudgrupp_storlek[index])"
   ]
  },
  {
   "cell_type": "markdown",
   "metadata": {},
   "source": [
    "Det går ju även att få fram vilka livsmedel som finns i de där grupperna."
   ]
  },
  {
   "cell_type": "code",
   "execution_count": 119,
   "metadata": {},
   "outputs": [
    {
     "name": "stdout",
     "output_type": "stream",
     "text": [
      "Sötningsmedel \n",
      " [['Sorbitol m sackarin']]\n",
      "Algprodukter \n",
      " [['Kelp torkad']]\n",
      "Kryddor \n",
      " [['Kryddblandning taco']]\n",
      "Övrigt animaliskt *kött*, grodlår, sniglar, säl - färskt, fryst, tillagat \n",
      " [['Grodlår råa frysta']]\n",
      "Sockerfritt godis \n",
      " [['Karameller syrliga sockerfria']]\n",
      "Risrätter \n",
      " [['Paella']]\n",
      "Dryck \n",
      " [['Mandeldryck']]\n",
      "Tacoskal \n",
      " [['Tacoskal']]\n",
      "Riskakor \n",
      " [['Riskakor fullkorn solrosfrön majs fett 4%'\n",
      "  'Riskakor fullkorn smaksatta fett 18%']]\n",
      "Frukt o nötblandningar bars \n",
      " [['Energibar choklad nötter Start'\n",
      "  'Müslibar fullkorn berikad typ Special K Bar Red fruit']]\n",
      "Frukt o bär \n",
      " [['Havtorn' 'Aronia']]\n",
      "Sportdrycker energidrycker \n",
      " [['Sportdryck drickf' 'Energidryck typ Red Bull berikad']]\n",
      "Gelatin agar agar \n",
      " [['Agar torkad' 'Gelatinblad gelatinpulver']]\n",
      "Övrigt \n",
      " [['Samarinpulver' 'Samarin drickf']]\n",
      "Blodmat \n",
      " [['Gris blod rå' 'Nöt blod rå']]\n",
      "Tuggummi \n",
      " [['Tuggummi' 'Tuggummi sockerfritt']]\n",
      "Kakaoprodukter \n",
      " [['Kakaopulver fett 20-22%' \"Kakaopulver m socker fett 2,5% typ O'boy\"]]\n",
      "Cider alkoläsk drink \n",
      " [['Cider vol. % 1' 'Irish coffee' 'Alkoläsk kolsyrad dryck vol. % 4-5']]\n",
      "Osträtter \n",
      " [['Camembert vitmögelost friterad'\n",
      "  'Crêpefyllning spenat fetaost skinka keso' 'Ostsufflé']]\n",
      "Smör \n",
      " [['Smör fett 80 %' 'Smör extrasaltat fett 80%' 'Smör osaltat fett 80%']]\n"
     ]
    }
   ],
   "source": [
    "for row in huvudgrupp_storlek[index]:\n",
    "    q = np.where(dataset.T[60]==row[0])\n",
    "    print(row[0],\"\\n\",dataset[q,0]) #Det går ju att skriva ut vilka värden som helst för varje livsmedel, som med dataset[q,:]"
   ]
  },
  {
   "cell_type": "markdown",
   "metadata": {},
   "source": [
    "Den här klassificeringen är alltså den som Livsmedelsverket själva har gjort, och det går att ändra parametrarna här ovan och få fram mycket mer om den.\n",
    "\n",
    "Men vad händer om man baserar en gruppering bara på näringsvärden i stället?"
   ]
  },
  {
   "cell_type": "markdown",
   "metadata": {},
   "source": [
    "## Klustring av näringsvärden\n",
    "\n",
    "Det finns över 50 näringsvärden i databasen."
   ]
  },
  {
   "cell_type": "markdown",
   "metadata": {},
   "source": [
    "Av de över 50 näringsvärdena får man välja ut ett antal som man tror kan spela roll för att ge livsmedlen en viss \"profil\". \n",
    "\n",
    "I princip skulle man kunna ha alla näringsvärden med, och man kan testa sig fram. Men på något sätt tror jag att de näringsvärden där många livsmedel har noll-värden kommer att förvirra klustringen.\n",
    "\n",
    "De här tror jag ger en bra bild av rymden av livsmedel. \n",
    "```\n",
    "[2 'Energi_kcal' 'REAL' 0 None 0]\n",
    "[4 'Kolhydrater_g' 'REAL' 0 None 0]\n",
    "[5 'Fett_g' 'REAL' 0 None 0]\n",
    "[6 'Protein_g' 'REAL' 0 None 0]\n",
    "[7 'Fibrer_g' 'REAL' 0 None 0]\n",
    "[8 'Vatten_g' 'REAL' 0 None 0]\n",
    "[9 'Alkohol_g' 'REAL' 0 None 0]\n",
    "[10 'Aska_g' 'REAL' 0 None 0]\n",
    "[42 'Vitamin_C_mg' 'REAL' 0 None 0]\n",
    "[50 'Jarn_mg' 'REAL' 0 None 0]\n",
    "```"
   ]
  },
  {
   "cell_type": "code",
   "execution_count": 120,
   "metadata": {},
   "outputs": [],
   "source": [
    "#Här är det urval som används nu\n",
    "#relevant_columns = [ 2,  4,  5,  6,  7,  8,  9, 10, 42, 50]\n",
    "#relevant_columns = [2,  4,  5,  6,  7,  8,  9, 10, 11, 12, 13, 14, 16, 17, 18, 19, 20, 21, 22, 23, 24, 25, 26, 27, 28, 29, 30, 31, 32, 33, 35, 37, 38, 40, 41, 42, 43, 44, 45, 46, 47, 48, 50, 51, 52, 53, 54, 55, 56, 57]\n",
    "relevant_columns = [ 4,  5,  6,  7,  8,  9]\n",
    "\n",
    "\n",
    "#Här är alla möjliga dimensioner. En del försvinner eftersom de \n",
    "#har värden som saknas för vissa livsmedel\n",
    "#[ 2,  4,  5,  6,  7,  8,  9, 10, 11, 12, 13, 14, 16, 17, 18, 19, 20, 21, 22, 23, 24, 25, 26, 27, 28, 29, 30, 31, 32, 33, 35, 37, 38, 40, 41, 42, 43, 44, 45, 46, 47, 48, 50, 51, 52, 53, 54, 55, 56, 57]"
   ]
  },
  {
   "cell_type": "markdown",
   "metadata": {},
   "source": [
    "Variabeln columns används för att hålla de värden som ska klustras. Vid klustringen undersöker algoritmen om man kan hitta några grupper av livsmedel som är mer lika än andra. Den slumpar ut kluster-mittpunkter och ser vilka livsmedel som ligger närmast dem (i alla dimensioner). Därefter ändrar den mittpunkterna lite, räknar om och ser om det blev bättre.\n",
    "\n",
    "Lite om numpy: i numpy kan man använda en array som index, men det gäller att göra det till ett index för kolumnerna och inte för raderna... (Läs mer om array som index här: <http://infontology.typepad.com/infontokod/2017/11/bra-funktioner-i-numpy.html> Där står också om den här \"slice\"-notationen array[a:b,c:d])"
   ]
  },
  {
   "cell_type": "code",
   "execution_count": 121,
   "metadata": {},
   "outputs": [
    {
     "name": "stdout",
     "output_type": "stream",
     "text": [
      "[[0.0 71.0 7.0 0.0 21.7 0.0]\n",
      " [0.0 85.0 2.8 0.0 11.1 0.0]\n",
      " [0.0 100.0 0.0 0.0 0.0 0.0]\n",
      " ...\n",
      " [7.6 0.5 0.93 0.8 90.0 0.0]\n",
      " [72.6 3.55 5.63 12.2 6.0 0.0]\n",
      " [57.5 4.8 8.44 1.75 27.5 0.0]]\n"
     ]
    }
   ],
   "source": [
    "columns = dataset[:,relevant_columns] #Tar man bort ':,' blir det alltså ett urval rader\n",
    "print(columns)"
   ]
  },
  {
   "cell_type": "markdown",
   "metadata": {},
   "source": [
    "Det går förstås att välja en massa olika klustringsalgoritmer. Vi har valt k-means. Det finns också en hel del parametrar att välja. <http://scikit-learn.org/stable/modules/generated/sklearn.cluster.KMeans.html>"
   ]
  },
  {
   "cell_type": "code",
   "execution_count": 122,
   "metadata": {},
   "outputs": [],
   "source": [
    " def cluster(dataset):\n",
    "    kmeans = KMeans(n_clusters=numClusters, verbose=0, n_init=100)\n",
    "    kmeans.fit(dataset)\n",
    "\n",
    "    centroids = kmeans.cluster_centers_\n",
    "    clusters = kmeans.labels_\n",
    "    \n",
    "    #Utskriften kommer ju inte här, utan efter funktionsanropet\n",
    "    if debug:\n",
    "        print (centroids)\n",
    "        print (clusters)\n",
    "\n",
    "    return clusters, centroids"
   ]
  },
  {
   "cell_type": "code",
   "execution_count": 123,
   "metadata": {},
   "outputs": [],
   "source": [
    "#Livsmedelsdatabasen innehåller över 100 huvudgrupper. Det hade varit bra att ha något \n",
    "#färre grupper på översta nivån. Högst 50. Eller kanske bara 10, för att komma ner i något som\n",
    "#skulle kunna motsvara \"frukt, grönsaker, fisk, kött, nötter\" etc.\n",
    "numClusters = 20"
   ]
  },
  {
   "cell_type": "code",
   "execution_count": 124,
   "metadata": {
    "scrolled": false
   },
   "outputs": [
    {
     "name": "stdout",
     "output_type": "stream",
     "text": [
      "[[ 5.88027322e+00  8.08109290e+00  6.65087432e+00  8.56939891e-01\n",
      "   7.56477049e+01  1.06049180e+00]\n",
      " [ 5.83880597e+01  2.52385075e+01  7.43791045e+00  3.38253731e+00\n",
      "   3.78597015e+00  1.94289029e-16]\n",
      " [ 4.59819048e+01  2.19983333e+01  6.09000000e+00  1.80476190e+00\n",
      "   2.24650000e+01 -8.32667268e-17]\n",
      " [ 6.74952577e+01  4.52958763e+00  9.26979381e+00  7.69855670e+00\n",
      "   8.51824742e+00  3.33066907e-16]\n",
      " [ 9.26315789e-02  9.77868421e+01  3.08947368e-01  1.00000000e-02\n",
      "   1.62526316e+00 -8.32667268e-17]\n",
      " [ 2.38121212e+00  2.73833333e+01  1.96392424e+01  1.18030303e-01\n",
      "   4.65059091e+01  1.94289029e-16]\n",
      " [ 3.21542289e-01  3.14666667e+00  2.05713433e+01  3.55223881e-02\n",
      "   7.41916418e+01  4.99600361e-16]\n",
      " [ 2.50408333e+01  1.40789286e+01  7.44773810e+00  1.58392857e+00\n",
      "   4.91957143e+01  5.89285714e-01]\n",
      " [ 4.47954416e+00  9.91253561e-01  1.62282051e+00  1.21763533e+00\n",
      "   9.06939031e+01  1.96039886e-01]\n",
      " [ 2.17445122e+01  3.97463415e+00  4.86993902e+00  2.13780488e+00\n",
      "   6.57578659e+01  3.16036585e-01]\n",
      " [ 9.78421053e-01  7.35621053e+01  6.05526316e-01  7.10526316e-03\n",
      "   2.36223684e+01 -1.38777878e-16]\n",
      " [ 1.14015000e+01  5.36705000e+01  1.74815000e+01  8.49900000e+00\n",
      "   5.69900000e+00 -8.32667268e-17]\n",
      " [ 1.12263158e+01  8.08368421e+00  2.48252632e+01  3.22105263e+00\n",
      "   5.93157895e+00 -8.32667268e-17]\n",
      " [ 1.60353741e+00  1.06659864e+01  2.05557823e+01  1.77755102e-01\n",
      "   6.45851701e+01  4.44089210e-16]\n",
      " [ 5.00439024e+00  3.77078049e+01  2.58024390e+00  3.19024390e-01\n",
      "   5.22109756e+01  3.17073171e-03]\n",
      " [ 4.85172619e+01  3.56071429e+00  5.50309524e+00  3.85940476e+00\n",
      "   3.69997619e+01  1.97619048e-02]\n",
      " [ 8.43008475e+01  1.21661017e+00  3.92644068e+00  1.26677966e+00\n",
      "   8.25423729e+00  1.11022302e-16]\n",
      " [ 6.44047244e+00  1.84863780e+01  1.12237795e+01  6.01259843e-01\n",
      "   6.07659055e+01  4.72440945e-04]\n",
      " [ 1.31879116e+01  1.28538153e+00  2.16963855e+00  2.02574297e+00\n",
      "   8.01800803e+01  2.16867470e-01]\n",
      " [ 4.44026667e+01  5.36066667e+00  1.98303333e+01  1.35066667e+01\n",
      "   7.98733333e+00 -1.38777878e-16]]\n",
      "[10  4  4 ...  8  3 15]\n"
     ]
    }
   ],
   "source": [
    "clusters, centroids = cluster(columns)"
   ]
  },
  {
   "cell_type": "markdown",
   "metadata": {},
   "source": [
    "Clusters är en array som är lika lång som antalet rader i dataset:"
   ]
  },
  {
   "cell_type": "code",
   "execution_count": 125,
   "metadata": {},
   "outputs": [
    {
     "name": "stdout",
     "output_type": "stream",
     "text": [
      "[10  4  4 ...  8  3 15] Antal värden: 2088\n"
     ]
    }
   ],
   "source": [
    "print(clusters, \"Antal värden:\", len(clusters))"
   ]
  },
  {
   "cell_type": "markdown",
   "metadata": {},
   "source": [
    "Beroende på hur man väljer parametrarna vid klustringen kan man få liten eller stor variation i hur många som hamnar i de olika klustren.\n",
    "\n",
    "Här är en tabell med fördelningen, och med några enkla statistiska mått."
   ]
  },
  {
   "cell_type": "code",
   "execution_count": 127,
   "metadata": {},
   "outputs": [
    {
     "name": "stdout",
     "output_type": "stream",
     "text": [
      "[[  0 183]\n",
      " [  1  67]\n",
      " [  2  42]\n",
      " [  3  97]\n",
      " [  4  19]\n",
      " [  5  66]\n",
      " [  6 201]\n",
      " [  7  84]\n",
      " [  8 351]\n",
      " [  9 164]\n",
      " [ 10  38]\n",
      " [ 11  20]\n",
      " [ 12  19]\n",
      " [ 13 147]\n",
      " [ 14  41]\n",
      " [ 15  84]\n",
      " [ 16  59]\n",
      " [ 17 127]\n",
      " [ 18 249]\n",
      " [ 19  30]]\n",
      "Medelvärde: 104.4\n",
      "Median: 75.5\n",
      "Standardavvikelse: 86.16751127890372\n"
     ]
    }
   ],
   "source": [
    "unique, counts = np.unique(clusters, return_counts=True) #https://stackoverflow.com/questions/28663856/how-to-count-the-occurrence-of-certain-item-in-an-ndarray-in-python\n",
    "cluster_distribution = np.array(list(zip(unique, counts)))\n",
    "print(cluster_distribution)\n",
    "print(\"Medelvärde:\", np.mean(cluster_distribution.T[1]))\n",
    "print(\"Median:\", np.median(cluster_distribution.T[1]))\n",
    "print(\"Standardavvikelse:\",np.std(cluster_distribution.T[1]))"
   ]
  },
  {
   "cell_type": "markdown",
   "metadata": {},
   "source": [
    "## Huvudgrupper i relation till kluster\n",
    "\n",
    "Jag vet inte hur Livsmedelsverket har gjort när de har satt ihop sin lista av huvudgrupper. Jag tror att den bygger mycket på tradition.\n",
    "\n",
    "När jag började titta på klustring begränsade jag beräkningarna till bara fett, protein och kolhydrater, och då hamnade mesosten i samma kluster som knäckebrödet, på grund av sin höga andel kolhydrater. Det var lite oväntat, men rymden av näringsvärden är ju helt ovetande om mänskliga måltidstraditioner eller inköpsmönster.\n",
    "\n",
    "En av poängerna med att titta på kluster är att få en uppfattning just om vilka livsmedel som hänger ihop näringsmässigt. Om man vill skulle det sen vara möjligt att ta ett visst livsmedel, exempelvis _bläckfisk_, och fråga vilka andra livsmedel som näringsmässigt ligger nära bläckfisken. Det kanske visar sig att tofu eller drickyoghurt ligger lika nära som torsk eller blåmusslor.\n",
    "\n",
    "Nu efter att klustringen är gjord går det att se vilka livsmedel som ingår i varje kluster, och vilka huvudgrupper de ingår i."
   ]
  },
  {
   "cell_type": "code",
   "execution_count": 128,
   "metadata": {},
   "outputs": [],
   "source": [
    "valt_kluster = 11"
   ]
  },
  {
   "cell_type": "code",
   "execution_count": 129,
   "metadata": {},
   "outputs": [
    {
     "name": "stdout",
     "output_type": "stream",
     "text": [
      "[['Cashewnötter' 'Nötter frön']\n",
      " ['Hasselnötter' 'Nötter frön']\n",
      " ['Jordnötssmör' 'Nötter frön']\n",
      " ['Jordnötter torkade' 'Nötter frön']\n",
      " ['Jordnötter rostade' '']\n",
      " ['Jordnötter rostade saltade' 'Nötter frön']\n",
      " ['Kokosflingor torkade' 'Nötter frön']\n",
      " ['Linfrön torkade' 'Nötter frön']\n",
      " ['Paranötter' 'Nötter frön']\n",
      " ['Pekannötter' 'Nötter frön']\n",
      " ['Pistaschnötter' 'Nötter frön']\n",
      " ['Pumpafrön squashfrön torkade' 'Nötter frön']\n",
      " ['Sesamfrön torkade' 'Nötter frön']\n",
      " ['Sesamfrön torkade u skal' 'Nötter frön']\n",
      " ['Solrosfrön torkade' 'Nötter frön']\n",
      " ['Sötmandel torkad' 'Nötter frön']\n",
      " ['Valnötter' 'Nötter frön']\n",
      " ['Pesto' 'Sås dressing majonnäs']\n",
      " ['Pestosås m basilika pinjenötter cashewnötter' 'Sås dressing majonnäs']\n",
      " ['Rostad lök' 'Grönsaks- rotfrukts- baljväxträtter och produkter']]\n"
     ]
    }
   ],
   "source": [
    "livsmedel_i_kluster = dataset[np.where(clusters==valt_kluster)][:,[0,60]]\n",
    "print(livsmedel_i_kluster)"
   ]
  },
  {
   "cell_type": "markdown",
   "metadata": {},
   "source": [
    "Eftersom det är så många livsmedel i varje kluster är det lättare att visa dem som en fördelning:"
   ]
  },
  {
   "cell_type": "code",
   "execution_count": 130,
   "metadata": {},
   "outputs": [
    {
     "name": "stdout",
     "output_type": "stream",
     "text": [
      "[['' '1']\n",
      " ['Grönsaks- rotfrukts- baljväxträtter och produkter' '1']\n",
      " ['Nötter frön' '16']\n",
      " ['Sås dressing majonnäs' '2']]\n"
     ]
    }
   ],
   "source": [
    "a=dataset[np.where(clusters==valt_kluster)][:,[0,60]]\n",
    "unique, counts = np.unique(a.T[1], return_counts=True) #https://stackoverflow.com/questions/28663856/how-to-count-the-occurrence-of-certain-item-in-an-ndarray-in-python\n",
    "huvudgrupp_distribution = np.array(list(zip(unique, counts)))\n",
    "\n",
    "print(huvudgrupp_distribution)"
   ]
  },
  {
   "cell_type": "markdown",
   "metadata": {},
   "source": [
    "Om man sorterar blir det lättare att få en uppfattning av vad klustret egentligen innehåller. "
   ]
  },
  {
   "cell_type": "code",
   "execution_count": 131,
   "metadata": {},
   "outputs": [
    {
     "name": "stdout",
     "output_type": "stream",
     "text": [
      "[['Nötter frön' '16']\n",
      " ['Sås dressing majonnäs' '2']\n",
      " ['Grönsaks- rotfrukts- baljväxträtter och produkter' '1']\n",
      " ['' '1']]\n"
     ]
    }
   ],
   "source": [
    "order=np.argsort(huvudgrupp_distribution.T[1].astype(int))\n",
    "order = np.flipud(order)\n",
    "#print (order)\n",
    "huvudgrupp_distribution = huvudgrupp_distribution[order]\n",
    "print(huvudgrupp_distribution)"
   ]
  },
  {
   "cell_type": "markdown",
   "metadata": {},
   "source": [
    "När jag körde fick jag en gång dessa som största kategorier i ett kluster:\n",
    "    \n",
    "```\n",
    "['Korv' '17']\n",
    "['Kött färskt fryst tillagat' '16']\n",
    "['Pizza paj pirog färdig smörgås' '13']\n",
    "['Köttprodukter kötträtter' '12']\n",
    "['Fisk o skaldjursprodukter o rätter' '12']\n",
    "['Starksprit' '6']\n",
    "```\n",
    "\n",
    "Jag antar att det hänger ihop med det höga energiinnehållet i spriten. Det är ju ingen som skulle föreslå att byta ut korven i middagen mot en sup, men kanske kan man tänka omvänt, att om man dricker mycket alkohol så motsvarar det rätt mycket korv."
   ]
  },
  {
   "cell_type": "markdown",
   "metadata": {},
   "source": [
    "Men även om man tycker att man har fått en stor andel av en viss huvudgrupp i sitt kluster, så kanske det ändå är bara en liten andel av hela huvudgruppen. \n",
    "\n",
    "Jag gjorde några beräkningar till, för att få fram hur stor del av huvudgruppen som man har prickat rätt:"
   ]
  },
  {
   "cell_type": "code",
   "execution_count": 132,
   "metadata": {
    "scrolled": true
   },
   "outputs": [
    {
     "name": "stdout",
     "output_type": "stream",
     "text": [
      "Namn, Antal i kluster, Totalt i huvudgrupp, Andel av huvudgrupp\n",
      "[['Nötter frön' '16' '21' '0.7619047619047619']\n",
      " ['Sås dressing majonnäs' '2' '79' '0.02531645569620253']\n",
      " ['Grönsaks- rotfrukts- baljväxträtter och produkter' '1' '55'\n",
      "  '0.01818181818181818']\n",
      " ['' '1' '7' '0.14285714285714285']]\n"
     ]
    }
   ],
   "source": [
    "totals = np.array([])\n",
    "for item in huvudgrupp_distribution:\n",
    "    a=np.where(huvudgrupp_storlek.T[0] == item [0])\n",
    "    totals=np.append(totals,huvudgrupp_storlek[a[0],1])\n",
    "samlad_array = np.concatenate((huvudgrupp_distribution.T,[totals]),axis=0).T\n",
    "part = lambda x: np.divide(x[1].astype(int),x[2].astype(int))\n",
    "andel = part(samlad_array.T)\n",
    "samlad_array = np.vstack((samlad_array.T,andel.T))\n",
    "print (\"Namn,\", \"Antal i kluster,\", \"Totalt i huvudgrupp,\", \"Andel av huvudgrupp\")\n",
    "print (samlad_array.T)    "
   ]
  },
  {
   "cell_type": "markdown",
   "metadata": {},
   "source": [
    "Det här är kanske så långt vi kommer i det här resonemanget. En början till att jämföra Livsmedelsverkets klassificering med den klassificering man får om man _bara_ ser till näringsvärden i olika kombinationer.\n",
    "\n",
    "En av de saker som drev mig till detta var de småkategorier som fanns bland Huvudgrupperna. Det skulle vara så bra om man kunde stoppa in dem i större kategorier. Men kanske går det inte. I alla fall inte baserat endast på näringsinnehåll.\n",
    "\n",
    "Det här tillvägagångssättet går förstås att effektivisera extremt mycket. Den här essän är bara skriven av pedagogiska skäl (dels för att visa potentialen i Jupyter, och dels för att visa upp rymden av livsmedelsdata).\n",
    "\n",
    "Man skulle till nästa essä kunna hålla fast vid möjligheten att det finns en korrespondens mellan huvudgrupper och näringsvärden, och kunna se vilka kombinationer av näringsvärden (och antal kluster) som ger best match mot huvudgrupperna. Det kräver massor av beräkningar! För varje antal kluster, välj alla kombinationer av näringsvärden: först enskilda näringsvärden, sen grupper av två, grupper av tre och så vidare. Och så måste man förstås hitta ett bra mått. Det måste man kanske också pröva sig fram till... Undrar om det finns ett matematiskt sätt att hitta det också, eller om det bara är möjligt att köra det så här med numeriska metoder..."
   ]
  },
  {
   "cell_type": "code",
   "execution_count": null,
   "metadata": {},
   "outputs": [],
   "source": []
  }
 ],
 "metadata": {
  "kernelspec": {
   "display_name": "Python 3",
   "language": "python",
   "name": "python3"
  },
  "language_info": {
   "codemirror_mode": {
    "name": "ipython",
    "version": 3
   },
   "file_extension": ".py",
   "mimetype": "text/x-python",
   "name": "python",
   "nbconvert_exporter": "python",
   "pygments_lexer": "ipython3",
   "version": "3.7.4"
  }
 },
 "nbformat": 4,
 "nbformat_minor": 2
}
